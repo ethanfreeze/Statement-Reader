{
 "cells": [
  {
   "cell_type": "code",
   "execution_count": 2,
   "id": "ed4244b2-78cb-402a-b638-ebb20fefb66b",
   "metadata": {},
   "outputs": [],
   "source": [
    "import pandas as pd\n",
    "import re\n",
    "import os"
   ]
  },
  {
   "cell_type": "code",
   "execution_count": null,
   "id": "c47c02f0-cb07-4398-81dd-20f485307db9",
   "metadata": {},
   "outputs": [],
   "source": [
    "class FindStatements:\n",
    "    def __init__(self, path, statementcount)\n",
    "    def selectPath():\n",
    "    def countStatements():\n",
    "    def returnData():"
   ]
  },
  {
   "cell_type": "code",
   "execution_count": 4,
   "id": "3371608c-fd2a-4fe3-9816-bc5735240ba9",
   "metadata": {},
   "outputs": [],
   "source": [
    "from pathlib import Path\n",
    "import PySimpleGUI as sg\n",
    "\n",
    "def popup_paths(path=Path.home(), width=60):\n",
    "    def short(file, width):\n",
    "        return file[:width // 2 - 3] + '...' + file[-width // 2:] if len(file) > width else file\n",
    "\n",
    "    def create_win(path):\n",
    "        files = sorted(sorted(Path(path).iterdir()), key=lambda x: Path(x).is_file())\n",
    "        # Your custom logic for handling the selected files or directories\n",
    "\n",
    "# You can customize the `create_win` function to process the selected paths\n",
    "popup_paths()"
   ]
  },
  {
   "cell_type": "code",
   "execution_count": null,
   "id": "68b53498-a747-4b8f-8f2f-554630224a60",
   "metadata": {},
   "outputs": [],
   "source": [
    "def GetStatements(self, path, file):"
   ]
  },
  {
   "cell_type": "code",
   "execution_count": null,
   "id": "bae1949a-7a19-4f55-9389-6339fd59c288",
   "metadata": {},
   "outputs": [],
   "source": [
    "def ParseStatement(self, file, line)"
   ]
  },
  {
   "cell_type": "code",
   "execution_count": null,
   "id": "54f60957-490b-4f28-b13f-81e5f75b5124",
   "metadata": {},
   "outputs": [],
   "source": [
    "def SaveParsedData(self)"
   ]
  }
 ],
 "metadata": {
  "kernelspec": {
   "display_name": "statementparse",
   "language": "python",
   "name": "statementparse"
  },
  "language_info": {
   "codemirror_mode": {
    "name": "ipython",
    "version": 3
   },
   "file_extension": ".py",
   "mimetype": "text/x-python",
   "name": "python",
   "nbconvert_exporter": "python",
   "pygments_lexer": "ipython3",
   "version": "3.12.4"
  }
 },
 "nbformat": 4,
 "nbformat_minor": 5
}
